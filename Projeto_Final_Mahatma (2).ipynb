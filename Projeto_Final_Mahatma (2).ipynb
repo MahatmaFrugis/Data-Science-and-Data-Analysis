{
  "nbformat": 4,
  "nbformat_minor": 0,
  "metadata": {
    "colab": {
      "name": "Projeto Final - Mahatma",
      "provenance": []
    },
    "kernelspec": {
      "name": "python3",
      "display_name": "Python 3"
    },
    "language_info": {
      "name": "python"
    }
  },
  "cells": [
    {
      "cell_type": "code",
      "execution_count": 24,
      "metadata": {
        "id": "RKI3E41uBaN0"
      },
      "outputs": [],
      "source": [
        "import pandas as pd\n",
        "import seaborn as sns\n",
        "import matplotlib.pyplot as plt"
      ]
    },
    {
      "cell_type": "code",
      "source": [
        "mh = pd.read_csv(\"Student Mental health.csv\")\n",
        "mh.head()"
      ],
      "metadata": {
        "colab": {
          "base_uri": "https://localhost:8080/",
          "height": 371
        },
        "id": "vNUKGxtqBicY",
        "outputId": "fc87a07d-9d09-4640-f165-5e371eee2f66"
      },
      "execution_count": 25,
      "outputs": [
        {
          "output_type": "execute_result",
          "data": {
            "text/plain": [
              "        Timestamp Choose your gender   Age What is your course?  \\\n",
              "0  8/7/2020 12:02             Female  18.0          Engineering   \n",
              "1  8/7/2020 12:04               Male  21.0    Islamic education   \n",
              "2  8/7/2020 12:05               Male  19.0                  BIT   \n",
              "3  8/7/2020 12:06             Female  22.0                 Laws   \n",
              "4  8/7/2020 12:13               Male  23.0         Mathemathics   \n",
              "\n",
              "  Your current year of Study What is your CGPA? Marital status  \\\n",
              "0                     year 1        3.00 - 3.49             No   \n",
              "1                     year 2        3.00 - 3.49             No   \n",
              "2                     Year 1        3.00 - 3.49             No   \n",
              "3                     year 3        3.00 - 3.49            Yes   \n",
              "4                     year 4        3.00 - 3.49             No   \n",
              "\n",
              "  Do you have Depression? Do you have Anxiety? Do you have Panic attack?  \\\n",
              "0                     Yes                   No                       Yes   \n",
              "1                      No                  Yes                        No   \n",
              "2                     Yes                  Yes                       Yes   \n",
              "3                     Yes                   No                        No   \n",
              "4                      No                   No                        No   \n",
              "\n",
              "  Did you seek any specialist for a treatment?  \n",
              "0                                           No  \n",
              "1                                           No  \n",
              "2                                           No  \n",
              "3                                           No  \n",
              "4                                           No  "
            ],
            "text/html": [
              "\n",
              "  <div id=\"df-3218c0ad-1e40-4920-8211-d57a8320d03d\">\n",
              "    <div class=\"colab-df-container\">\n",
              "      <div>\n",
              "<style scoped>\n",
              "    .dataframe tbody tr th:only-of-type {\n",
              "        vertical-align: middle;\n",
              "    }\n",
              "\n",
              "    .dataframe tbody tr th {\n",
              "        vertical-align: top;\n",
              "    }\n",
              "\n",
              "    .dataframe thead th {\n",
              "        text-align: right;\n",
              "    }\n",
              "</style>\n",
              "<table border=\"1\" class=\"dataframe\">\n",
              "  <thead>\n",
              "    <tr style=\"text-align: right;\">\n",
              "      <th></th>\n",
              "      <th>Timestamp</th>\n",
              "      <th>Choose your gender</th>\n",
              "      <th>Age</th>\n",
              "      <th>What is your course?</th>\n",
              "      <th>Your current year of Study</th>\n",
              "      <th>What is your CGPA?</th>\n",
              "      <th>Marital status</th>\n",
              "      <th>Do you have Depression?</th>\n",
              "      <th>Do you have Anxiety?</th>\n",
              "      <th>Do you have Panic attack?</th>\n",
              "      <th>Did you seek any specialist for a treatment?</th>\n",
              "    </tr>\n",
              "  </thead>\n",
              "  <tbody>\n",
              "    <tr>\n",
              "      <th>0</th>\n",
              "      <td>8/7/2020 12:02</td>\n",
              "      <td>Female</td>\n",
              "      <td>18.0</td>\n",
              "      <td>Engineering</td>\n",
              "      <td>year 1</td>\n",
              "      <td>3.00 - 3.49</td>\n",
              "      <td>No</td>\n",
              "      <td>Yes</td>\n",
              "      <td>No</td>\n",
              "      <td>Yes</td>\n",
              "      <td>No</td>\n",
              "    </tr>\n",
              "    <tr>\n",
              "      <th>1</th>\n",
              "      <td>8/7/2020 12:04</td>\n",
              "      <td>Male</td>\n",
              "      <td>21.0</td>\n",
              "      <td>Islamic education</td>\n",
              "      <td>year 2</td>\n",
              "      <td>3.00 - 3.49</td>\n",
              "      <td>No</td>\n",
              "      <td>No</td>\n",
              "      <td>Yes</td>\n",
              "      <td>No</td>\n",
              "      <td>No</td>\n",
              "    </tr>\n",
              "    <tr>\n",
              "      <th>2</th>\n",
              "      <td>8/7/2020 12:05</td>\n",
              "      <td>Male</td>\n",
              "      <td>19.0</td>\n",
              "      <td>BIT</td>\n",
              "      <td>Year 1</td>\n",
              "      <td>3.00 - 3.49</td>\n",
              "      <td>No</td>\n",
              "      <td>Yes</td>\n",
              "      <td>Yes</td>\n",
              "      <td>Yes</td>\n",
              "      <td>No</td>\n",
              "    </tr>\n",
              "    <tr>\n",
              "      <th>3</th>\n",
              "      <td>8/7/2020 12:06</td>\n",
              "      <td>Female</td>\n",
              "      <td>22.0</td>\n",
              "      <td>Laws</td>\n",
              "      <td>year 3</td>\n",
              "      <td>3.00 - 3.49</td>\n",
              "      <td>Yes</td>\n",
              "      <td>Yes</td>\n",
              "      <td>No</td>\n",
              "      <td>No</td>\n",
              "      <td>No</td>\n",
              "    </tr>\n",
              "    <tr>\n",
              "      <th>4</th>\n",
              "      <td>8/7/2020 12:13</td>\n",
              "      <td>Male</td>\n",
              "      <td>23.0</td>\n",
              "      <td>Mathemathics</td>\n",
              "      <td>year 4</td>\n",
              "      <td>3.00 - 3.49</td>\n",
              "      <td>No</td>\n",
              "      <td>No</td>\n",
              "      <td>No</td>\n",
              "      <td>No</td>\n",
              "      <td>No</td>\n",
              "    </tr>\n",
              "  </tbody>\n",
              "</table>\n",
              "</div>\n",
              "      <button class=\"colab-df-convert\" onclick=\"convertToInteractive('df-3218c0ad-1e40-4920-8211-d57a8320d03d')\"\n",
              "              title=\"Convert this dataframe to an interactive table.\"\n",
              "              style=\"display:none;\">\n",
              "        \n",
              "  <svg xmlns=\"http://www.w3.org/2000/svg\" height=\"24px\"viewBox=\"0 0 24 24\"\n",
              "       width=\"24px\">\n",
              "    <path d=\"M0 0h24v24H0V0z\" fill=\"none\"/>\n",
              "    <path d=\"M18.56 5.44l.94 2.06.94-2.06 2.06-.94-2.06-.94-.94-2.06-.94 2.06-2.06.94zm-11 1L8.5 8.5l.94-2.06 2.06-.94-2.06-.94L8.5 2.5l-.94 2.06-2.06.94zm10 10l.94 2.06.94-2.06 2.06-.94-2.06-.94-.94-2.06-.94 2.06-2.06.94z\"/><path d=\"M17.41 7.96l-1.37-1.37c-.4-.4-.92-.59-1.43-.59-.52 0-1.04.2-1.43.59L10.3 9.45l-7.72 7.72c-.78.78-.78 2.05 0 2.83L4 21.41c.39.39.9.59 1.41.59.51 0 1.02-.2 1.41-.59l7.78-7.78 2.81-2.81c.8-.78.8-2.07 0-2.86zM5.41 20L4 18.59l7.72-7.72 1.47 1.35L5.41 20z\"/>\n",
              "  </svg>\n",
              "      </button>\n",
              "      \n",
              "  <style>\n",
              "    .colab-df-container {\n",
              "      display:flex;\n",
              "      flex-wrap:wrap;\n",
              "      gap: 12px;\n",
              "    }\n",
              "\n",
              "    .colab-df-convert {\n",
              "      background-color: #E8F0FE;\n",
              "      border: none;\n",
              "      border-radius: 50%;\n",
              "      cursor: pointer;\n",
              "      display: none;\n",
              "      fill: #1967D2;\n",
              "      height: 32px;\n",
              "      padding: 0 0 0 0;\n",
              "      width: 32px;\n",
              "    }\n",
              "\n",
              "    .colab-df-convert:hover {\n",
              "      background-color: #E2EBFA;\n",
              "      box-shadow: 0px 1px 2px rgba(60, 64, 67, 0.3), 0px 1px 3px 1px rgba(60, 64, 67, 0.15);\n",
              "      fill: #174EA6;\n",
              "    }\n",
              "\n",
              "    [theme=dark] .colab-df-convert {\n",
              "      background-color: #3B4455;\n",
              "      fill: #D2E3FC;\n",
              "    }\n",
              "\n",
              "    [theme=dark] .colab-df-convert:hover {\n",
              "      background-color: #434B5C;\n",
              "      box-shadow: 0px 1px 3px 1px rgba(0, 0, 0, 0.15);\n",
              "      filter: drop-shadow(0px 1px 2px rgba(0, 0, 0, 0.3));\n",
              "      fill: #FFFFFF;\n",
              "    }\n",
              "  </style>\n",
              "\n",
              "      <script>\n",
              "        const buttonEl =\n",
              "          document.querySelector('#df-3218c0ad-1e40-4920-8211-d57a8320d03d button.colab-df-convert');\n",
              "        buttonEl.style.display =\n",
              "          google.colab.kernel.accessAllowed ? 'block' : 'none';\n",
              "\n",
              "        async function convertToInteractive(key) {\n",
              "          const element = document.querySelector('#df-3218c0ad-1e40-4920-8211-d57a8320d03d');\n",
              "          const dataTable =\n",
              "            await google.colab.kernel.invokeFunction('convertToInteractive',\n",
              "                                                     [key], {});\n",
              "          if (!dataTable) return;\n",
              "\n",
              "          const docLinkHtml = 'Like what you see? Visit the ' +\n",
              "            '<a target=\"_blank\" href=https://colab.research.google.com/notebooks/data_table.ipynb>data table notebook</a>'\n",
              "            + ' to learn more about interactive tables.';\n",
              "          element.innerHTML = '';\n",
              "          dataTable['output_type'] = 'display_data';\n",
              "          await google.colab.output.renderOutput(dataTable, element);\n",
              "          const docLink = document.createElement('div');\n",
              "          docLink.innerHTML = docLinkHtml;\n",
              "          element.appendChild(docLink);\n",
              "        }\n",
              "      </script>\n",
              "    </div>\n",
              "  </div>\n",
              "  "
            ]
          },
          "metadata": {},
          "execution_count": 25
        }
      ]
    },
    {
      "cell_type": "code",
      "source": [
        "mh.isnull().sum()"
      ],
      "metadata": {
        "colab": {
          "base_uri": "https://localhost:8080/"
        },
        "id": "K8Xoaw6DW2yY",
        "outputId": "3912b862-0d9e-4e36-dca7-fac5a494739c"
      },
      "execution_count": 26,
      "outputs": [
        {
          "output_type": "execute_result",
          "data": {
            "text/plain": [
              "Timestamp                                       0\n",
              "Choose your gender                              0\n",
              "Age                                             1\n",
              "What is your course?                            0\n",
              "Your current year of Study                      0\n",
              "What is your CGPA?                              0\n",
              "Marital status                                  0\n",
              "Do you have Depression?                         0\n",
              "Do you have Anxiety?                            0\n",
              "Do you have Panic attack?                       0\n",
              "Did you seek any specialist for a treatment?    0\n",
              "dtype: int64"
            ]
          },
          "metadata": {},
          "execution_count": 26
        }
      ]
    },
    {
      "cell_type": "code",
      "source": [
        "mh = mh.dropna(axis=0)\n",
        "mh.isnull().sum()"
      ],
      "metadata": {
        "colab": {
          "base_uri": "https://localhost:8080/"
        },
        "id": "OtNSK1P2XJgI",
        "outputId": "5259222e-fcbe-41e8-d8f5-eef19fc32655"
      },
      "execution_count": 27,
      "outputs": [
        {
          "output_type": "execute_result",
          "data": {
            "text/plain": [
              "Timestamp                                       0\n",
              "Choose your gender                              0\n",
              "Age                                             0\n",
              "What is your course?                            0\n",
              "Your current year of Study                      0\n",
              "What is your CGPA?                              0\n",
              "Marital status                                  0\n",
              "Do you have Depression?                         0\n",
              "Do you have Anxiety?                            0\n",
              "Do you have Panic attack?                       0\n",
              "Did you seek any specialist for a treatment?    0\n",
              "dtype: int64"
            ]
          },
          "metadata": {},
          "execution_count": 27
        }
      ]
    },
    {
      "cell_type": "code",
      "source": [
        "mh.info()"
      ],
      "metadata": {
        "colab": {
          "base_uri": "https://localhost:8080/"
        },
        "id": "w2Oi7Q4ECOdk",
        "outputId": "72d6aa1f-982c-401d-8742-4c35b06cc4b2"
      },
      "execution_count": 28,
      "outputs": [
        {
          "output_type": "stream",
          "name": "stdout",
          "text": [
            "<class 'pandas.core.frame.DataFrame'>\n",
            "Int64Index: 100 entries, 0 to 100\n",
            "Data columns (total 11 columns):\n",
            " #   Column                                        Non-Null Count  Dtype  \n",
            "---  ------                                        --------------  -----  \n",
            " 0   Timestamp                                     100 non-null    object \n",
            " 1   Choose your gender                            100 non-null    object \n",
            " 2   Age                                           100 non-null    float64\n",
            " 3   What is your course?                          100 non-null    object \n",
            " 4   Your current year of Study                    100 non-null    object \n",
            " 5   What is your CGPA?                            100 non-null    object \n",
            " 6   Marital status                                100 non-null    object \n",
            " 7   Do you have Depression?                       100 non-null    object \n",
            " 8   Do you have Anxiety?                          100 non-null    object \n",
            " 9   Do you have Panic attack?                     100 non-null    object \n",
            " 10  Did you seek any specialist for a treatment?  100 non-null    object \n",
            "dtypes: float64(1), object(10)\n",
            "memory usage: 9.4+ KB\n"
          ]
        }
      ]
    },
    {
      "cell_type": "code",
      "source": [
        "mh = mh.mask(mh==\"year 1\", \"Year 1\")\n",
        "mh = mh.mask(mh==\"year 2\", \"Year 2\")\n",
        "mh = mh.mask(mh==\"year 3\", \"Year 3\")\n",
        "mh = mh.mask(mh==\"year 4\", \"Year 4\")\n",
        "mh"
      ],
      "metadata": {
        "colab": {
          "base_uri": "https://localhost:8080/",
          "height": 676
        },
        "id": "0WspFXaYXsAX",
        "outputId": "901472f7-a6f1-473d-cec5-aea216a0d75e"
      },
      "execution_count": 29,
      "outputs": [
        {
          "output_type": "execute_result",
          "data": {
            "text/plain": [
              "               Timestamp Choose your gender   Age What is your course?  \\\n",
              "0         8/7/2020 12:02             Female  18.0          Engineering   \n",
              "1         8/7/2020 12:04               Male  21.0    Islamic education   \n",
              "2         8/7/2020 12:05               Male  19.0                  BIT   \n",
              "3         8/7/2020 12:06             Female  22.0                 Laws   \n",
              "4         8/7/2020 12:13               Male  23.0         Mathemathics   \n",
              "..                   ...                ...   ...                  ...   \n",
              "96   13/07/2020 19:56:49             Female  21.0                  BCS   \n",
              "97   13/07/2020 21:21:42               Male  18.0          Engineering   \n",
              "98   13/07/2020 21:22:56             Female  19.0             Nursing    \n",
              "99   13/07/2020 21:23:57             Female  23.0     Pendidikan Islam   \n",
              "100  18/07/2020 20:16:21               Male  20.0   Biomedical science   \n",
              "\n",
              "    Your current year of Study What is your CGPA? Marital status  \\\n",
              "0                       Year 1        3.00 - 3.49             No   \n",
              "1                       Year 2        3.00 - 3.49             No   \n",
              "2                       Year 1        3.00 - 3.49             No   \n",
              "3                       Year 3        3.00 - 3.49            Yes   \n",
              "4                       Year 4        3.00 - 3.49             No   \n",
              "..                         ...                ...            ...   \n",
              "96                      Year 1        3.50 - 4.00             No   \n",
              "97                      Year 2        3.00 - 3.49             No   \n",
              "98                      Year 3        3.50 - 4.00            Yes   \n",
              "99                      Year 4        3.50 - 4.00             No   \n",
              "100                     Year 2        3.00 - 3.49             No   \n",
              "\n",
              "    Do you have Depression? Do you have Anxiety? Do you have Panic attack?  \\\n",
              "0                       Yes                   No                       Yes   \n",
              "1                        No                  Yes                        No   \n",
              "2                       Yes                  Yes                       Yes   \n",
              "3                       Yes                   No                        No   \n",
              "4                        No                   No                        No   \n",
              "..                      ...                  ...                       ...   \n",
              "96                       No                  Yes                        No   \n",
              "97                      Yes                  Yes                        No   \n",
              "98                      Yes                   No                       Yes   \n",
              "99                       No                   No                        No   \n",
              "100                      No                   No                        No   \n",
              "\n",
              "    Did you seek any specialist for a treatment?  \n",
              "0                                             No  \n",
              "1                                             No  \n",
              "2                                             No  \n",
              "3                                             No  \n",
              "4                                             No  \n",
              "..                                           ...  \n",
              "96                                            No  \n",
              "97                                            No  \n",
              "98                                            No  \n",
              "99                                            No  \n",
              "100                                           No  \n",
              "\n",
              "[100 rows x 11 columns]"
            ],
            "text/html": [
              "\n",
              "  <div id=\"df-b8292054-bf11-4d93-8602-ff4708261c26\">\n",
              "    <div class=\"colab-df-container\">\n",
              "      <div>\n",
              "<style scoped>\n",
              "    .dataframe tbody tr th:only-of-type {\n",
              "        vertical-align: middle;\n",
              "    }\n",
              "\n",
              "    .dataframe tbody tr th {\n",
              "        vertical-align: top;\n",
              "    }\n",
              "\n",
              "    .dataframe thead th {\n",
              "        text-align: right;\n",
              "    }\n",
              "</style>\n",
              "<table border=\"1\" class=\"dataframe\">\n",
              "  <thead>\n",
              "    <tr style=\"text-align: right;\">\n",
              "      <th></th>\n",
              "      <th>Timestamp</th>\n",
              "      <th>Choose your gender</th>\n",
              "      <th>Age</th>\n",
              "      <th>What is your course?</th>\n",
              "      <th>Your current year of Study</th>\n",
              "      <th>What is your CGPA?</th>\n",
              "      <th>Marital status</th>\n",
              "      <th>Do you have Depression?</th>\n",
              "      <th>Do you have Anxiety?</th>\n",
              "      <th>Do you have Panic attack?</th>\n",
              "      <th>Did you seek any specialist for a treatment?</th>\n",
              "    </tr>\n",
              "  </thead>\n",
              "  <tbody>\n",
              "    <tr>\n",
              "      <th>0</th>\n",
              "      <td>8/7/2020 12:02</td>\n",
              "      <td>Female</td>\n",
              "      <td>18.0</td>\n",
              "      <td>Engineering</td>\n",
              "      <td>Year 1</td>\n",
              "      <td>3.00 - 3.49</td>\n",
              "      <td>No</td>\n",
              "      <td>Yes</td>\n",
              "      <td>No</td>\n",
              "      <td>Yes</td>\n",
              "      <td>No</td>\n",
              "    </tr>\n",
              "    <tr>\n",
              "      <th>1</th>\n",
              "      <td>8/7/2020 12:04</td>\n",
              "      <td>Male</td>\n",
              "      <td>21.0</td>\n",
              "      <td>Islamic education</td>\n",
              "      <td>Year 2</td>\n",
              "      <td>3.00 - 3.49</td>\n",
              "      <td>No</td>\n",
              "      <td>No</td>\n",
              "      <td>Yes</td>\n",
              "      <td>No</td>\n",
              "      <td>No</td>\n",
              "    </tr>\n",
              "    <tr>\n",
              "      <th>2</th>\n",
              "      <td>8/7/2020 12:05</td>\n",
              "      <td>Male</td>\n",
              "      <td>19.0</td>\n",
              "      <td>BIT</td>\n",
              "      <td>Year 1</td>\n",
              "      <td>3.00 - 3.49</td>\n",
              "      <td>No</td>\n",
              "      <td>Yes</td>\n",
              "      <td>Yes</td>\n",
              "      <td>Yes</td>\n",
              "      <td>No</td>\n",
              "    </tr>\n",
              "    <tr>\n",
              "      <th>3</th>\n",
              "      <td>8/7/2020 12:06</td>\n",
              "      <td>Female</td>\n",
              "      <td>22.0</td>\n",
              "      <td>Laws</td>\n",
              "      <td>Year 3</td>\n",
              "      <td>3.00 - 3.49</td>\n",
              "      <td>Yes</td>\n",
              "      <td>Yes</td>\n",
              "      <td>No</td>\n",
              "      <td>No</td>\n",
              "      <td>No</td>\n",
              "    </tr>\n",
              "    <tr>\n",
              "      <th>4</th>\n",
              "      <td>8/7/2020 12:13</td>\n",
              "      <td>Male</td>\n",
              "      <td>23.0</td>\n",
              "      <td>Mathemathics</td>\n",
              "      <td>Year 4</td>\n",
              "      <td>3.00 - 3.49</td>\n",
              "      <td>No</td>\n",
              "      <td>No</td>\n",
              "      <td>No</td>\n",
              "      <td>No</td>\n",
              "      <td>No</td>\n",
              "    </tr>\n",
              "    <tr>\n",
              "      <th>...</th>\n",
              "      <td>...</td>\n",
              "      <td>...</td>\n",
              "      <td>...</td>\n",
              "      <td>...</td>\n",
              "      <td>...</td>\n",
              "      <td>...</td>\n",
              "      <td>...</td>\n",
              "      <td>...</td>\n",
              "      <td>...</td>\n",
              "      <td>...</td>\n",
              "      <td>...</td>\n",
              "    </tr>\n",
              "    <tr>\n",
              "      <th>96</th>\n",
              "      <td>13/07/2020 19:56:49</td>\n",
              "      <td>Female</td>\n",
              "      <td>21.0</td>\n",
              "      <td>BCS</td>\n",
              "      <td>Year 1</td>\n",
              "      <td>3.50 - 4.00</td>\n",
              "      <td>No</td>\n",
              "      <td>No</td>\n",
              "      <td>Yes</td>\n",
              "      <td>No</td>\n",
              "      <td>No</td>\n",
              "    </tr>\n",
              "    <tr>\n",
              "      <th>97</th>\n",
              "      <td>13/07/2020 21:21:42</td>\n",
              "      <td>Male</td>\n",
              "      <td>18.0</td>\n",
              "      <td>Engineering</td>\n",
              "      <td>Year 2</td>\n",
              "      <td>3.00 - 3.49</td>\n",
              "      <td>No</td>\n",
              "      <td>Yes</td>\n",
              "      <td>Yes</td>\n",
              "      <td>No</td>\n",
              "      <td>No</td>\n",
              "    </tr>\n",
              "    <tr>\n",
              "      <th>98</th>\n",
              "      <td>13/07/2020 21:22:56</td>\n",
              "      <td>Female</td>\n",
              "      <td>19.0</td>\n",
              "      <td>Nursing</td>\n",
              "      <td>Year 3</td>\n",
              "      <td>3.50 - 4.00</td>\n",
              "      <td>Yes</td>\n",
              "      <td>Yes</td>\n",
              "      <td>No</td>\n",
              "      <td>Yes</td>\n",
              "      <td>No</td>\n",
              "    </tr>\n",
              "    <tr>\n",
              "      <th>99</th>\n",
              "      <td>13/07/2020 21:23:57</td>\n",
              "      <td>Female</td>\n",
              "      <td>23.0</td>\n",
              "      <td>Pendidikan Islam</td>\n",
              "      <td>Year 4</td>\n",
              "      <td>3.50 - 4.00</td>\n",
              "      <td>No</td>\n",
              "      <td>No</td>\n",
              "      <td>No</td>\n",
              "      <td>No</td>\n",
              "      <td>No</td>\n",
              "    </tr>\n",
              "    <tr>\n",
              "      <th>100</th>\n",
              "      <td>18/07/2020 20:16:21</td>\n",
              "      <td>Male</td>\n",
              "      <td>20.0</td>\n",
              "      <td>Biomedical science</td>\n",
              "      <td>Year 2</td>\n",
              "      <td>3.00 - 3.49</td>\n",
              "      <td>No</td>\n",
              "      <td>No</td>\n",
              "      <td>No</td>\n",
              "      <td>No</td>\n",
              "      <td>No</td>\n",
              "    </tr>\n",
              "  </tbody>\n",
              "</table>\n",
              "<p>100 rows × 11 columns</p>\n",
              "</div>\n",
              "      <button class=\"colab-df-convert\" onclick=\"convertToInteractive('df-b8292054-bf11-4d93-8602-ff4708261c26')\"\n",
              "              title=\"Convert this dataframe to an interactive table.\"\n",
              "              style=\"display:none;\">\n",
              "        \n",
              "  <svg xmlns=\"http://www.w3.org/2000/svg\" height=\"24px\"viewBox=\"0 0 24 24\"\n",
              "       width=\"24px\">\n",
              "    <path d=\"M0 0h24v24H0V0z\" fill=\"none\"/>\n",
              "    <path d=\"M18.56 5.44l.94 2.06.94-2.06 2.06-.94-2.06-.94-.94-2.06-.94 2.06-2.06.94zm-11 1L8.5 8.5l.94-2.06 2.06-.94-2.06-.94L8.5 2.5l-.94 2.06-2.06.94zm10 10l.94 2.06.94-2.06 2.06-.94-2.06-.94-.94-2.06-.94 2.06-2.06.94z\"/><path d=\"M17.41 7.96l-1.37-1.37c-.4-.4-.92-.59-1.43-.59-.52 0-1.04.2-1.43.59L10.3 9.45l-7.72 7.72c-.78.78-.78 2.05 0 2.83L4 21.41c.39.39.9.59 1.41.59.51 0 1.02-.2 1.41-.59l7.78-7.78 2.81-2.81c.8-.78.8-2.07 0-2.86zM5.41 20L4 18.59l7.72-7.72 1.47 1.35L5.41 20z\"/>\n",
              "  </svg>\n",
              "      </button>\n",
              "      \n",
              "  <style>\n",
              "    .colab-df-container {\n",
              "      display:flex;\n",
              "      flex-wrap:wrap;\n",
              "      gap: 12px;\n",
              "    }\n",
              "\n",
              "    .colab-df-convert {\n",
              "      background-color: #E8F0FE;\n",
              "      border: none;\n",
              "      border-radius: 50%;\n",
              "      cursor: pointer;\n",
              "      display: none;\n",
              "      fill: #1967D2;\n",
              "      height: 32px;\n",
              "      padding: 0 0 0 0;\n",
              "      width: 32px;\n",
              "    }\n",
              "\n",
              "    .colab-df-convert:hover {\n",
              "      background-color: #E2EBFA;\n",
              "      box-shadow: 0px 1px 2px rgba(60, 64, 67, 0.3), 0px 1px 3px 1px rgba(60, 64, 67, 0.15);\n",
              "      fill: #174EA6;\n",
              "    }\n",
              "\n",
              "    [theme=dark] .colab-df-convert {\n",
              "      background-color: #3B4455;\n",
              "      fill: #D2E3FC;\n",
              "    }\n",
              "\n",
              "    [theme=dark] .colab-df-convert:hover {\n",
              "      background-color: #434B5C;\n",
              "      box-shadow: 0px 1px 3px 1px rgba(0, 0, 0, 0.15);\n",
              "      filter: drop-shadow(0px 1px 2px rgba(0, 0, 0, 0.3));\n",
              "      fill: #FFFFFF;\n",
              "    }\n",
              "  </style>\n",
              "\n",
              "      <script>\n",
              "        const buttonEl =\n",
              "          document.querySelector('#df-b8292054-bf11-4d93-8602-ff4708261c26 button.colab-df-convert');\n",
              "        buttonEl.style.display =\n",
              "          google.colab.kernel.accessAllowed ? 'block' : 'none';\n",
              "\n",
              "        async function convertToInteractive(key) {\n",
              "          const element = document.querySelector('#df-b8292054-bf11-4d93-8602-ff4708261c26');\n",
              "          const dataTable =\n",
              "            await google.colab.kernel.invokeFunction('convertToInteractive',\n",
              "                                                     [key], {});\n",
              "          if (!dataTable) return;\n",
              "\n",
              "          const docLinkHtml = 'Like what you see? Visit the ' +\n",
              "            '<a target=\"_blank\" href=https://colab.research.google.com/notebooks/data_table.ipynb>data table notebook</a>'\n",
              "            + ' to learn more about interactive tables.';\n",
              "          element.innerHTML = '';\n",
              "          dataTable['output_type'] = 'display_data';\n",
              "          await google.colab.output.renderOutput(dataTable, element);\n",
              "          const docLink = document.createElement('div');\n",
              "          docLink.innerHTML = docLinkHtml;\n",
              "          element.appendChild(docLink);\n",
              "        }\n",
              "      </script>\n",
              "    </div>\n",
              "  </div>\n",
              "  "
            ]
          },
          "metadata": {},
          "execution_count": 29
        }
      ]
    },
    {
      "cell_type": "code",
      "source": [
        "Depression = mh.loc[(mh[\"Do you have Depression?\"]==\"Yes\")]"
      ],
      "metadata": {
        "id": "-WjYiPl6miLU"
      },
      "execution_count": 30,
      "outputs": []
    },
    {
      "cell_type": "code",
      "source": [
        "Anxiety = mh.loc[(mh[\"Do you have Anxiety?\"]==\"Yes\")]"
      ],
      "metadata": {
        "id": "ZE6ysW3FMz-M"
      },
      "execution_count": 31,
      "outputs": []
    },
    {
      "cell_type": "code",
      "source": [
        "Panic = mh.loc[(mh[\"Do you have Panic attack?\"]==\"Yes\")]"
      ],
      "metadata": {
        "id": "NcTHVaMBklDs"
      },
      "execution_count": 32,
      "outputs": []
    },
    {
      "cell_type": "code",
      "source": [
        "sns.countplot(Depression[\"Do you have Depression?\"], hue=Depression[\"Your current year of Study\"],)\n",
        "plt.title(\"Depression by year of study\", fontsize=20)"
      ],
      "metadata": {
        "colab": {
          "base_uri": "https://localhost:8080/",
          "height": 372
        },
        "id": "2gcB8vzqkwNv",
        "outputId": "153454fc-6b85-441e-a3e4-d5fd5a350e23"
      },
      "execution_count": 33,
      "outputs": [
        {
          "output_type": "stream",
          "name": "stderr",
          "text": [
            "/usr/local/lib/python3.7/dist-packages/seaborn/_decorators.py:43: FutureWarning: Pass the following variable as a keyword arg: x. From version 0.12, the only valid positional argument will be `data`, and passing other arguments without an explicit keyword will result in an error or misinterpretation.\n",
            "  FutureWarning\n"
          ]
        },
        {
          "output_type": "execute_result",
          "data": {
            "text/plain": [
              "Text(0.5, 1.0, 'Depression by year of study')"
            ]
          },
          "metadata": {},
          "execution_count": 33
        },
        {
          "output_type": "display_data",
          "data": {
            "text/plain": [
              "<Figure size 432x288 with 1 Axes>"
            ],
            "image/png": "[encoded data removed]"
          },
          "metadata": {
            "needs_background": "light"
          }
        }
      ]
    },
    {
      "cell_type": "code",
      "source": [
        "sns.countplot(Anxiety[\"Do you have Anxiety?\"], hue=Anxiety[\"Your current year of Study\"],)\n",
        "plt.title(\"Anxiety by year of study\", fontsize=20)"
      ],
      "metadata": {
        "colab": {
          "base_uri": "https://localhost:8080/",
          "height": 372
        },
        "id": "XEzHKoNvm354",
        "outputId": "abef48e0-7128-4b6e-efce-7e92169be627"
      },
      "execution_count": 34,
      "outputs": [
        {
          "output_type": "stream",
          "name": "stderr",
          "text": [
            "/usr/local/lib/python3.7/dist-packages/seaborn/_decorators.py:43: FutureWarning: Pass the following variable as a keyword arg: x. From version 0.12, the only valid positional argument will be `data`, and passing other arguments without an explicit keyword will result in an error or misinterpretation.\n",
            "  FutureWarning\n"
          ]
        },
        {
          "output_type": "execute_result",
          "data": {
            "text/plain": [
              "Text(0.5, 1.0, 'Anxiety by year of study')"
            ]
          },
          "metadata": {},
          "execution_count": 34
        },
        {
          "output_type": "display_data",
          "data": {
            "text/plain": [
              "<Figure size 432x288 with 1 Axes>"
            ],
            "image/png": "[encoded data removed]"
          },
          "metadata": {
            "needs_background": "light"
          }
        }
      ]
    },
    {
      "cell_type": "code",
      "source": [
        "sns.countplot(Panic[\"Do you have Panic attack?\"], hue=Panic[\"Your current year of Study\"],)\n",
        "plt.title(\"Panic Attack by year of study\", fontsize=20)"
      ],
      "metadata": {
        "colab": {
          "base_uri": "https://localhost:8080/",
          "height": 372
        },
        "id": "K3NCIri8nu9f",
        "outputId": "4096a609-3abb-41d5-dd51-c514618ead1f"
      },
      "execution_count": 35,
      "outputs": [
        {
          "output_type": "stream",
          "name": "stderr",
          "text": [
            "/usr/local/lib/python3.7/dist-packages/seaborn/_decorators.py:43: FutureWarning: Pass the following variable as a keyword arg: x. From version 0.12, the only valid positional argument will be `data`, and passing other arguments without an explicit keyword will result in an error or misinterpretation.\n",
            "  FutureWarning\n"
          ]
        },
        {
          "output_type": "execute_result",
          "data": {
            "text/plain": [
              "Text(0.5, 1.0, 'Panic Attack by year of study')"
            ]
          },
          "metadata": {},
          "execution_count": 35
        },
        {
          "output_type": "display_data",
          "data": {
            "text/plain": [
              "<Figure size 432x288 with 1 Axes>"
            ],
            "image/png": "[encoded data removed]"
          },
          "metadata": {
            "needs_background": "light"
          }
        }
      ]
    },
    {
      "cell_type": "code",
      "source": [
        "Year1D = Depression.loc[(Depression[\"Your current year of Study\"]==\"Year 1\")]\n"
      ],
      "metadata": {
        "id": "T3Wbj3J_oe2_"
      },
      "execution_count": 36,
      "outputs": []
    },
    {
      "cell_type": "code",
      "source": [
        "Year1A = Anxiety.loc[(Anxiety[\"Your current year of Study\"]==\"Year 1\")]"
      ],
      "metadata": {
        "id": "Mx-g2luarZTA"
      },
      "execution_count": 37,
      "outputs": []
    },
    {
      "cell_type": "code",
      "source": [
        "Year1P = Panic.loc[(Panic[\"Your current year of Study\"]==\"Year 1\")]"
      ],
      "metadata": {
        "id": "o81dpG7qrZe5"
      },
      "execution_count": 38,
      "outputs": []
    },
    {
      "cell_type": "code",
      "source": [
        "sns.countplot(Year1D[\"Do you have Depression?\"], hue=Year1D[\"What is your course?\"],)\n",
        "plt.title(\"Depression in Year 1\", fontsize=20)"
      ],
      "metadata": {
        "colab": {
          "base_uri": "https://localhost:8080/",
          "height": 372
        },
        "id": "qU7kQdTmpmg4",
        "outputId": "b8c59df3-be76-490b-c803-e03337d224a0"
      },
      "execution_count": 39,
      "outputs": [
        {
          "output_type": "stream",
          "name": "stderr",
          "text": [
            "/usr/local/lib/python3.7/dist-packages/seaborn/_decorators.py:43: FutureWarning: Pass the following variable as a keyword arg: x. From version 0.12, the only valid positional argument will be `data`, and passing other arguments without an explicit keyword will result in an error or misinterpretation.\n",
            "  FutureWarning\n"
          ]
        },
        {
          "output_type": "execute_result",
          "data": {
            "text/plain": [
              "Text(0.5, 1.0, 'Depression in Year 1')"
            ]
          },
          "metadata": {},
          "execution_count": 39
        },
        {
          "output_type": "display_data",
          "data": {
            "text/plain": [
              "<Figure size 432x288 with 1 Axes>"
            ],
            "image/png": "[encoded data removed]"
          },
          "metadata": {
            "needs_background": "light"
          }
        }
      ]
    },
    {
      "cell_type": "code",
      "source": [
        "sns.countplot(Year1A[\"Do you have Anxiety?\"], hue=Year1A[\"What is your course?\"],)\n",
        "plt.title(\"Anxiety in Year 1\", fontsize=20)"
      ],
      "metadata": {
        "colab": {
          "base_uri": "https://localhost:8080/",
          "height": 372
        },
        "id": "krturRZvpmtn",
        "outputId": "b629cecf-2d54-4e6d-be05-2a8457bbc277"
      },
      "execution_count": 40,
      "outputs": [
        {
          "output_type": "stream",
          "name": "stderr",
          "text": [
            "/usr/local/lib/python3.7/dist-packages/seaborn/_decorators.py:43: FutureWarning: Pass the following variable as a keyword arg: x. From version 0.12, the only valid positional argument will be `data`, and passing other arguments without an explicit keyword will result in an error or misinterpretation.\n",
            "  FutureWarning\n"
          ]
        },
        {
          "output_type": "execute_result",
          "data": {
            "text/plain": [
              "Text(0.5, 1.0, 'Anxiety in Year 1')"
            ]
          },
          "metadata": {},
          "execution_count": 40
        },
        {
          "output_type": "display_data",
          "data": {
            "text/plain": [
              "<Figure size 432x288 with 1 Axes>"
            ],
            "image/png": "[encoded data removed]"
          },
          "metadata": {
            "needs_background": "light"
          }
        }
      ]
    },
    {
      "cell_type": "code",
      "source": [
        "sns.countplot(Year1P[\"Do you have Panic attack?\"], hue=Year1P[\"What is your course?\"],)\n",
        "plt.title(\"Panic Attack in Year 1\", fontsize=20)"
      ],
      "metadata": {
        "colab": {
          "base_uri": "https://localhost:8080/",
          "height": 372
        },
        "id": "cvTK1XI2pAkj",
        "outputId": "5fac392f-343f-49ef-e15e-21a3f17633e6"
      },
      "execution_count": 41,
      "outputs": [
        {
          "output_type": "stream",
          "name": "stderr",
          "text": [
            "/usr/local/lib/python3.7/dist-packages/seaborn/_decorators.py:43: FutureWarning: Pass the following variable as a keyword arg: x. From version 0.12, the only valid positional argument will be `data`, and passing other arguments without an explicit keyword will result in an error or misinterpretation.\n",
            "  FutureWarning\n"
          ]
        },
        {
          "output_type": "execute_result",
          "data": {
            "text/plain": [
              "Text(0.5, 1.0, 'Panic Attack in Year 1')"
            ]
          },
          "metadata": {},
          "execution_count": 41
        },
        {
          "output_type": "display_data",
          "data": {
            "text/plain": [
              "<Figure size 432x288 with 1 Axes>"
            ],
            "image/png": "[encoded data removed]"
          },
          "metadata": {
            "needs_background": "light"
          }
        }
      ]
    },
    {
      "cell_type": "markdown",
      "source": [
        "Conclusão: A análise feita nos mostra que os cursos de ciêncies exatas (BIT, BCS e Engineering) são os que mais causam doenças mentais aos alunos do primeiro ano da faculdade. Também podemos afirmar que os alunos que superam os problemas mentais e seguem com o curso, chegam ao último ano do curso com menos problemas mentais."
      ],
      "metadata": {
        "id": "RkpE0mtaxUk5"
      }
    }
  ]
}