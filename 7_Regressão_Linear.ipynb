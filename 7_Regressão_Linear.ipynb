{
  "nbformat": 4,
  "nbformat_minor": 0,
  "metadata": {
    "colab": {
      "name": "7. Regressão Linear",
      "provenance": [],
      "collapsed_sections": []
    },
    "kernelspec": {
      "name": "python3",
      "display_name": "Python 3"
    },
    "language_info": {
      "name": "python"
    }
  },
  "cells": [
    {
      "cell_type": "code",
      "execution_count": 2,
      "metadata": {
        "id": "gJeo45s1P66k"
      },
      "outputs": [],
      "source": [
        "import numpy as np\n",
        "import pandas as pd\n",
        "import seaborn as sns\n",
        "housing = pd.read_csv(\"USA_Housing.csv\")"
      ]
    },
    {
      "cell_type": "code",
      "source": [
        "mask = np.triu(np.ones_like(housing.corr(), dtype=bool))\n",
        "heatmap = sns.heatmap(housing.corr(), mask=mask, vmin=-1, vmax=1, annot=True, cmap='PuOr')"
      ],
      "metadata": {
        "colab": {
          "base_uri": "https://localhost:8080/",
          "height": 416
        },
        "id": "qLsDXL9BQRDT",
        "outputId": "be8e6bd0-227d-4bd7-81c2-5d65ca87be96"
      },
      "execution_count": 3,
      "outputs": [
        {
          "output_type": "display_data",
          "data": {
            "text/plain": [
              "<Figure size 432x288 with 2 Axes>"
            ],
            "image/png": "[encoded data removed]"
          },
          "metadata": {
            "needs_background": "light"
          }
        }
      ]
    },
    {
      "cell_type": "code",
      "source": [
        "X = housing[[\"Avg. Area Income\", \"Avg. Area House Age\"]]\n",
        "Y = housing[\"Price\"]"
      ],
      "metadata": {
        "id": "kDYl8v4qQ1TN"
      },
      "execution_count": 4,
      "outputs": []
    },
    {
      "cell_type": "code",
      "source": [
        "from sklearn.model_selection import train_test_split\n",
        "X_train, X_test, y_train, y_test = train_test_split(X, Y, test_size=0.3, random_state=0)"
      ],
      "metadata": {
        "id": "kxGFx9BaSYPn"
      },
      "execution_count": 5,
      "outputs": []
    },
    {
      "cell_type": "code",
      "source": [
        "X_train.shape\n",
        "X_test.shape\n",
        "y_train.shape\n",
        "y_test.shape"
      ],
      "metadata": {
        "colab": {
          "base_uri": "https://localhost:8080/"
        },
        "id": "lhdvYvFISevG",
        "outputId": "5ecd910d-99df-4a25-b7e5-b6c8c699b2eb"
      },
      "execution_count": 6,
      "outputs": [
        {
          "output_type": "execute_result",
          "data": {
            "text/plain": [
              "(1500,)"
            ]
          },
          "metadata": {},
          "execution_count": 6
        }
      ]
    },
    {
      "cell_type": "code",
      "source": [
        "from sklearn.linear_model import LinearRegression\n",
        "model = LinearRegression()\n",
        "model.fit(X_train, y_train)\n",
        "treino = model.predict(X_train)"
      ],
      "metadata": {
        "id": "RqAeDQSUSqFD"
      },
      "execution_count": 7,
      "outputs": []
    },
    {
      "cell_type": "code",
      "source": [
        "from sklearn.metrics import mean_absolute_error\n",
        "from sklearn.metrics import mean_squared_error\n",
        "\n",
        "MAE = mean_absolute_error(treino, y_train)\n",
        "MSE = mean_squared_error(treino, y_train)\n",
        "RMSE = np.sqrt(mean_squared_error(treino, y_train))\n",
        "\n",
        "print(f'MAE:{MAE}\\nMSE:{MSE}\\nRMSE:{RMSE}')"
      ],
      "metadata": {
        "colab": {
          "base_uri": "https://localhost:8080/"
        },
        "id": "LvfKuw8kS0Nj",
        "outputId": "ca4596e4-adeb-43be-9674-14b07d2fbfb9"
      },
      "execution_count": 8,
      "outputs": [
        {
          "output_type": "stream",
          "name": "stdout",
          "text": [
            "MAE:173763.66480565103\n",
            "MSE:47742809855.57362\n",
            "RMSE:218501.28113027994\n"
          ]
        }
      ]
    },
    {
      "cell_type": "code",
      "source": [
        "from sklearn.linear_model import LinearRegression\n",
        "model2 = LinearRegression()\n",
        "model2.fit(X_test, y_test)\n",
        "teste = model2.predict(X_test)"
      ],
      "metadata": {
        "id": "cyQH60U-0l1k"
      },
      "execution_count": 9,
      "outputs": []
    },
    {
      "cell_type": "code",
      "source": [
        "from sklearn.metrics import mean_absolute_error\n",
        "from sklearn.metrics import mean_squared_error\n",
        "\n",
        "MAE2 = mean_absolute_error(teste, y_test)\n",
        "MSE2 = mean_squared_error(teste, y_test)\n",
        "RMSE2 = np.sqrt(mean_squared_error(teste, y_test))\n",
        "\n",
        "print(f'MAE2:{MAE2}\\nMSE2:{MSE2}\\nRMSE2:{RMSE2}')"
      ],
      "metadata": {
        "colab": {
          "base_uri": "https://localhost:8080/"
        },
        "id": "IF37ML1a07uB",
        "outputId": "5af23ea2-ff1f-4ae3-917a-03ee5e27f737"
      },
      "execution_count": 11,
      "outputs": [
        {
          "output_type": "stream",
          "name": "stdout",
          "text": [
            "MAE2:175710.27361873878\n",
            "MSE2:48480821258.34923\n",
            "RMSE2:220183.60806006705\n"
          ]
        }
      ]
    }
  ]
}